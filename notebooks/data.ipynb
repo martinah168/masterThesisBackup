{
 "cells": [
  {
   "cell_type": "code",
   "execution_count": null,
   "metadata": {},
   "outputs": [],
   "source": [
    "%load_ext autoreload\n",
    "%autoreload 2"
   ]
  },
  {
   "cell_type": "code",
   "execution_count": null,
   "metadata": {},
   "outputs": [],
   "source": [
    "%pip install -e ~/coding/diffae"
   ]
  },
  {
   "cell_type": "code",
   "execution_count": null,
   "metadata": {},
   "outputs": [],
   "source": [
    "import argparse\n",
    "\n",
    "import matplotlib.pyplot as plt\n",
    "import numpy as np\n",
    "import torch\n",
    "import torch.nn.functional as F\n",
    "from pathlib import Path\n",
    "\n",
    "from training.data.glioma_public import PublicGliomaDataset\n",
    "from training.data.mri import extract_slices_from_volume\n",
    "from training.experiments.cls import ClsModel\n",
    "from training.experiments.rep import LitModel\n",
    "from training.templates.templates import gliomapublic_autoenc\n",
    "from training.templates.templates_cls import gliomapublic_autoenc_cls"
   ]
  },
  {
   "cell_type": "code",
   "execution_count": null,
   "metadata": {},
   "outputs": [],
   "source": [
    "CWD = %pwd\n",
    "CWD = Path(CWD).parent\n",
    "CWD\n"
   ]
  },
  {
   "cell_type": "code",
   "execution_count": null,
   "metadata": {},
   "outputs": [],
   "source": [
    "SEEED = 0\n",
    "np.random.seed(SEEED)\n",
    "torch.manual_seed(SEEED)\n",
    "print(f\"seed = {SEEED}\")"
   ]
  },
  {
   "cell_type": "code",
   "execution_count": null,
   "metadata": {},
   "outputs": [],
   "source": [
    "def plot_tensor(t, ax, cmap=\"gray\", *args, **kwargs):\n",
    "    return ax.imshow(t.permute(1, 2, 0).cpu(), cmap=cmap, *args, **kwargs)\n"
   ]
  },
  {
   "cell_type": "code",
   "execution_count": null,
   "metadata": {},
   "outputs": [],
   "source": [
    "args = argparse.Namespace()\n",
    "args.clf_mode = \"multi_class\"\n",
    "args.manipulate_znormalize = False\n",
    "# args.manipulate_cls = \"12\"\n",
    "args.model_name = \"beatgans_autoenc\"\n",
    "args.version = \"5\"  # \"2\" or \"5\" for the other model\n",
    "args.style_ch = \"512\"\n",
    "args.use_healthy = True\n",
    "args"
   ]
  },
  {
   "cell_type": "code",
   "execution_count": null,
   "metadata": {},
   "outputs": [],
   "source": [
    "device = 'cuda'\n",
    "conf = gliomapublic_autoenc(args=args, is_debugging=False)\n",
    "\n",
    "state = torch.load(CWD / f'{conf.logdir}/last.ckpt', map_location='cpu')\n",
    "conf.sample_size = state[\"state_dict\"][\"x_T\"].shape[0]\n",
    "conf.manipulate_znormalize = False\n",
    "print(conf.name)\n",
    "model = LitModel(conf)\n",
    "model.load_state_dict(state['state_dict'], strict=False)\n",
    "model.ema_model.eval()\n",
    "model.ema_model.to(device)\n",
    "args.pretrain_path = CWD / f\"checkpoints/gliomapublic_seq-all/version_{args.version}/last.ckpt\"\n",
    "\n",
    "print(\"version setup for healthy visualization\")\n",
    "args.version = {\"2\": \"0\", \"5\": \"1\"}[args.version]\n",
    "cls_conf = gliomapublic_autoenc_cls(is_debugging=False, args=args)\n",
    "print()"
   ]
  },
  {
   "cell_type": "code",
   "execution_count": null,
   "metadata": {},
   "outputs": [],
   "source": [
    "# define dataset\n",
    "datasets =[]\n",
    "for split in [\"train\",\"val\",\"test\"]:\n",
    "    print(f\"split: {split}\")\n",
    "    datasets.append(PublicGliomaDataset(\n",
    "    data_dir=conf.data_path,\n",
    "    img_size=conf.img_size,\n",
    "    mri_sequences=conf.mri_sequences,\n",
    "    mri_crop=conf.mri_crop,\n",
    "    train_mode=conf.train_mode,\n",
    "    filter_class_labels=True,\n",
    "    split_ratio=conf.split_ratio,\n",
    "    split=split,\n",
    "    manipulate_cls=conf.manipulate_cls,\n",
    "    use_healthy=conf.use_healthy,\n",
    "))\n",
    "train_ds,val_ds, test_ds = datasets\n",
    "print(f\"train: {len(train_ds)}, val: {len(val_ds)}, test: {len(test_ds)}\")"
   ]
  },
  {
   "attachments": {},
   "cell_type": "markdown",
   "metadata": {},
   "source": [
    "# general  hints\n",
    "- all scans are skull stripped, co-registered, all of the same size (240x240x155).\n",
    "    - probably sensible to downsample and/or crop\n",
    "    - reasonable crop size: 96^3 or 64^3 around the center of mass of the tumor\n",
    "- for each scan we have all 4 MRI sequences: t1, t1c, t2, t2-flair + segmentation (+ sometimes brainmask (=> can also be easily inferred by intensity > 0) )\n",
    "- not all subjects in the dataset have a preop MRI (in lumiere dataset). they should be ignored\n",
    "- the dataset is organised in the following\n",
    "    - ./_CENTERDIR_/_SUBJECTDIR_/preop/_FILENAME_\n",
    "    - _FILENAME_=sub-_SUBJECTID_\\_ses-preop_space-sri\\_*SEQ*.nii.gz\n",
    "        - _SUBJECTID_=_SUBJECTDIR_\n",
    "        - _SEQ_={t1,t1c,t2,flair,seg}\n",
    "- background has intensity 0 \n",
    "- other intensities range from values < 0 to ~1500.\n",
    "    - multiple possibilities normalize\n",
    "    - Z-score normalization, [0,1] normalization, [-1,1] normalization (I am currently doing [-1,1])\n",
    "        - always normalize per sequence\n",
    "- for visualization of the scans they can extract slices at the center of mass of the tumor\n",
    "- center of mass of tumor can be found by finding center of mass of (seg_map > 0)\n",
    "\n",
    "## labels csv (phenoData.csv)\n",
    "- each row contains labels for tumor type in WHO2021_Int\n",
    "- subject is identified by the columns Dataset and Patient containing the values  _CENTERDIR_,_SUBJECTDIR_ respectively\n",
    "- not all subjects have labels\n",
    "- not all subjects are in the CSV file\n",
    "\n",
    "\n"
   ]
  },
  {
   "attachments": {},
   "cell_type": "markdown",
   "metadata": {},
   "source": [
    "## Data splits\n",
    "(possible splitting with 0.9/0.1 train/val)\n",
    "split: train\n",
    "- total: 3006, with labels: 1310\n",
    "- samples per class [146, 1088, 76]\n",
    "\n",
    "split: val\n",
    "- total: 334, with labels: 150\n",
    "- samples per class [13, 125, 12]\n",
    "\n",
    "split: test (TCGA center, **this is fixed**)\n",
    "- total: 243, with labels: 214\n",
    "- samples per class [54, 139, 21]\n",
    "\n",
    "train: 1310, val: 150, test: 214"
   ]
  },
  {
   "cell_type": "markdown",
   "metadata": {},
   "source": []
  }
 ],
 "metadata": {
  "kernelspec": {
   "display_name": "diffae",
   "language": "python",
   "name": "python3"
  },
  "language_info": {
   "codemirror_mode": {
    "name": "ipython",
    "version": 3
   },
   "file_extension": ".py",
   "mimetype": "text/x-python",
   "name": "python",
   "nbconvert_exporter": "python",
   "pygments_lexer": "ipython3",
   "version": "3.9.16"
  }
 },
 "nbformat": 4,
 "nbformat_minor": 2
}
